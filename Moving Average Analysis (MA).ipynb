{
 "cells": [
  {
   "cell_type": "markdown",
   "metadata": {},
   "source": [
    "## Importing the relevant packages"
   ]
  },
  {
   "cell_type": "code",
   "execution_count": 3,
   "metadata": {},
   "outputs": [],
   "source": [
    "import pandas as pd\n",
    "import numpy as np\n",
    "import matplotlib.pyplot as plt\n",
    "import statsmodels.graphics.tsaplots as sgt\n",
    "import statsmodels.tsa.stattools as sts\n",
    "from statsmodels.tsa.arima_model import ARMA\n",
    "from scipy.stats.distributions import chi2 \n",
    "from math import sqrt\n",
    "import seaborn as sns\n",
    "sns.set()"
   ]
  },
  {
   "cell_type": "markdown",
   "metadata": {},
   "source": [
    " "
   ]
  },
  {
   "cell_type": "markdown",
   "metadata": {},
   "source": [
    "## Importing the Data and Pre-processing "
   ]
  },
  {
   "cell_type": "code",
   "execution_count": 4,
   "metadata": {},
   "outputs": [],
   "source": [
    "raw_csv_data = pd.read_csv(\"Index2018.csv\") \n",
    "df_comp=raw_csv_data.copy()\n",
    "df_comp.date = pd.to_datetime(df_comp.date, dayfirst = True)\n",
    "df_comp.set_index(\"date\", inplace=True)\n",
    "df_comp=df_comp.asfreq('b')\n",
    "df_comp=df_comp.fillna(method='ffill')"
   ]
  },
  {
   "cell_type": "code",
   "execution_count": 5,
   "metadata": {},
   "outputs": [],
   "source": [
    "df_comp['market_value']=df_comp.ftse"
   ]
  },
  {
   "cell_type": "code",
   "execution_count": 6,
   "metadata": {},
   "outputs": [],
   "source": [
    "del df_comp['spx']\n",
    "del df_comp['dax']\n",
    "del df_comp['ftse']\n",
    "del df_comp['nikkei']\n",
    "size = int(len(df_comp)*0.8)\n",
    "df, df_test = df_comp.iloc[:size], df_comp.iloc[size:]"
   ]
  },
  {
   "cell_type": "markdown",
   "metadata": {},
   "source": [
    " "
   ]
  },
  {
   "cell_type": "markdown",
   "metadata": {},
   "source": [
    "## The LLR Test"
   ]
  },
  {
   "cell_type": "code",
   "execution_count": 7,
   "metadata": {},
   "outputs": [],
   "source": [
    "def LLR_test(mod_1, mod_2, DF = 1):\n",
    "    L1 = mod_1.fit().llf\n",
    "    L2 = mod_2.fit().llf\n",
    "    LR = (2*(L2-L1))    \n",
    "    p = chi2.sf(LR, DF).round(3)\n",
    "    return p"
   ]
  },
  {
   "cell_type": "markdown",
   "metadata": {},
   "source": [
    "## Creating Returns"
   ]
  },
  {
   "cell_type": "code",
   "execution_count": 8,
   "metadata": {
    "scrolled": true
   },
   "outputs": [
    {
     "name": "stderr",
     "output_type": "stream",
     "text": [
      "/var/folders/ws/jfyqgcz57_374tjld1g6w96m0000gn/T/ipykernel_7666/3293167152.py:1: SettingWithCopyWarning: \n",
      "A value is trying to be set on a copy of a slice from a DataFrame.\n",
      "Try using .loc[row_indexer,col_indexer] = value instead\n",
      "\n",
      "See the caveats in the documentation: https://pandas.pydata.org/pandas-docs/stable/user_guide/indexing.html#returning-a-view-versus-a-copy\n",
      "  df['returns'] = df.market_value.pct_change(1)*100\n"
     ]
    }
   ],
   "source": [
    "df['returns'] = df.market_value.pct_change(1)*100"
   ]
  },
  {
   "cell_type": "markdown",
   "metadata": {},
   "source": [
    "## ACF for Returns"
   ]
  },
  {
   "cell_type": "code",
   "execution_count": 12,
   "metadata": {},
   "outputs": [
    {
     "data": {
      "image/png": "[encoded data removed]",
      "text/plain": [
       "<Figure size 432x288 with 1 Axes>"
      ]
     },
     "metadata": {},
     "output_type": "display_data"
    }
   ],
   "source": [
    "import statsmodels.graphics.tsaplots as sgt\n",
    "sgt.plot_acf(df['returns'][1:],lags=40,zero=False)\n",
    "plt.ylim(-0.06,0.06)\n",
    "plt.show()"
   ]
  },
  {
   "cell_type": "markdown",
   "metadata": {},
   "source": [
    "## MA(1) for Returns"
   ]
  },
  {
   "cell_type": "code",
   "execution_count": 14,
   "metadata": {},
   "outputs": [
    {
     "data": {
      "text/html": [
       "<table class=\"simpletable\">\n",
       "<caption>SARIMAX Results</caption>\n",
       "<tr>\n",
       "  <th>Dep. Variable:</th>        <td>returns</td>     <th>  No. Observations:  </th>   <td>5020</td>   \n",
       "</tr>\n",
       "<tr>\n",
       "  <th>Model:</th>            <td>ARIMA(0, 0, 1)</td>  <th>  Log Likelihood     </th> <td>-7929.595</td>\n",
       "</tr>\n",
       "<tr>\n",
       "  <th>Date:</th>            <td>Fri, 15 Jul 2022</td> <th>  AIC                </th> <td>15865.190</td>\n",
       "</tr>\n",
       "<tr>\n",
       "  <th>Time:</th>                <td>13:06:01</td>     <th>  BIC                </th> <td>15884.754</td>\n",
       "</tr>\n",
       "<tr>\n",
       "  <th>Sample:</th>             <td>01-10-1994</td>    <th>  HQIC               </th> <td>15872.045</td>\n",
       "</tr>\n",
       "<tr>\n",
       "  <th></th>                   <td>- 04-05-2013</td>   <th>                     </th>     <td> </td>    \n",
       "</tr>\n",
       "<tr>\n",
       "  <th>Covariance Type:</th>        <td>opg</td>       <th>                     </th>     <td> </td>    \n",
       "</tr>\n",
       "</table>\n",
       "<table class=\"simpletable\">\n",
       "<tr>\n",
       "     <td></td>       <th>coef</th>     <th>std err</th>      <th>z</th>      <th>P>|z|</th>  <th>[0.025</th>    <th>0.975]</th>  \n",
       "</tr>\n",
       "<tr>\n",
       "  <th>const</th>  <td>    0.0188</td> <td>    0.016</td> <td>    1.146</td> <td> 0.252</td> <td>   -0.013</td> <td>    0.051</td>\n",
       "</tr>\n",
       "<tr>\n",
       "  <th>ma.L1</th>  <td>   -0.0257</td> <td>    0.009</td> <td>   -3.018</td> <td> 0.003</td> <td>   -0.042</td> <td>   -0.009</td>\n",
       "</tr>\n",
       "<tr>\n",
       "  <th>sigma2</th> <td>    1.3789</td> <td>    0.014</td> <td>   99.990</td> <td> 0.000</td> <td>    1.352</td> <td>    1.406</td>\n",
       "</tr>\n",
       "</table>\n",
       "<table class=\"simpletable\">\n",
       "<tr>\n",
       "  <th>Ljung-Box (L1) (Q):</th>     <td>0.01</td> <th>  Jarque-Bera (JB):  </th> <td>7852.85</td>\n",
       "</tr>\n",
       "<tr>\n",
       "  <th>Prob(Q):</th>                <td>0.92</td> <th>  Prob(JB):          </th>  <td>0.00</td>  \n",
       "</tr>\n",
       "<tr>\n",
       "  <th>Heteroskedasticity (H):</th> <td>2.04</td> <th>  Skew:              </th>  <td>-0.03</td> \n",
       "</tr>\n",
       "<tr>\n",
       "  <th>Prob(H) (two-sided):</th>    <td>0.00</td> <th>  Kurtosis:          </th>  <td>9.13</td>  \n",
       "</tr>\n",
       "</table><br/><br/>Warnings:<br/>[1] Covariance matrix calculated using the outer product of gradients (complex-step)."
      ],
      "text/plain": [
       "<class 'statsmodels.iolib.summary.Summary'>\n",
       "\"\"\"\n",
       "                               SARIMAX Results                                \n",
       "==============================================================================\n",
       "Dep. Variable:                returns   No. Observations:                 5020\n",
       "Model:                 ARIMA(0, 0, 1)   Log Likelihood               -7929.595\n",
       "Date:                Fri, 15 Jul 2022   AIC                          15865.190\n",
       "Time:                        13:06:01   BIC                          15884.754\n",
       "Sample:                    01-10-1994   HQIC                         15872.045\n",
       "                         - 04-05-2013                                         \n",
       "Covariance Type:                  opg                                         \n",
       "==============================================================================\n",
       "                 coef    std err          z      P>|z|      [0.025      0.975]\n",
       "------------------------------------------------------------------------------\n",
       "const          0.0188      0.016      1.146      0.252      -0.013       0.051\n",
       "ma.L1         -0.0257      0.009     -3.018      0.003      -0.042      -0.009\n",
       "sigma2         1.3789      0.014     99.990      0.000       1.352       1.406\n",
       "===================================================================================\n",
       "Ljung-Box (L1) (Q):                   0.01   Jarque-Bera (JB):              7852.85\n",
       "Prob(Q):                              0.92   Prob(JB):                         0.00\n",
       "Heteroskedasticity (H):               2.04   Skew:                            -0.03\n",
       "Prob(H) (two-sided):                  0.00   Kurtosis:                         9.13\n",
       "===================================================================================\n",
       "\n",
       "Warnings:\n",
       "[1] Covariance matrix calculated using the outer product of gradients (complex-step).\n",
       "\"\"\""
      ]
     },
     "execution_count": 14,
     "metadata": {},
     "output_type": "execute_result"
    }
   ],
   "source": [
    "from statsmodels.tsa.arima.model import ARIMA\n",
    "ma1_ret_model=ARIMA(df['returns'][1:],order=(0,0,1))\n",
    "ma1_ret_res=ma1_ret_model.fit()\n",
    "ma1_ret_res.summary()"
   ]
  },
  {
   "cell_type": "markdown",
   "metadata": {},
   "source": [
    "## Higher-Lag MA Models for Returns"
   ]
  },
  {
   "cell_type": "code",
   "execution_count": 16,
   "metadata": {},
   "outputs": [],
   "source": [
    "def LLR_test(mod_1, mod_2, DF=1):\n",
    "    L1 = mod_1.fit().llf\n",
    "    L2 = mod_2.fit().llf\n",
    "    LR = (2*(L2-L1))\n",
    "    p = chi2.sf(LR, DF).round(3)\n",
    "    return p"
   ]
  },
  {
   "cell_type": "code",
   "execution_count": 18,
   "metadata": {},
   "outputs": [
    {
     "name": "stdout",
     "output_type": "stream",
     "text": [
      "                               SARIMAX Results                                \n",
      "==============================================================================\n",
      "Dep. Variable:                returns   No. Observations:                 5020\n",
      "Model:                 ARIMA(0, 0, 2)   Log Likelihood               -7922.864\n",
      "Date:                Fri, 15 Jul 2022   AIC                          15853.728\n",
      "Time:                        13:32:49   BIC                          15879.812\n",
      "Sample:                    01-10-1994   HQIC                         15862.868\n",
      "                         - 04-05-2013                                         \n",
      "Covariance Type:                  opg                                         \n",
      "==============================================================================\n",
      "                 coef    std err          z      P>|z|      [0.025      0.975]\n",
      "------------------------------------------------------------------------------\n",
      "const          0.0188      0.016      1.204      0.228      -0.012       0.049\n",
      "ma.L1         -0.0327      0.009     -3.760      0.000      -0.050      -0.016\n",
      "ma.L2         -0.0502      0.008     -6.416      0.000      -0.066      -0.035\n",
      "sigma2         1.3753      0.014     99.021      0.000       1.348       1.402\n",
      "===================================================================================\n",
      "Ljung-Box (L1) (Q):                   0.08   Jarque-Bera (JB):              7657.23\n",
      "Prob(Q):                              0.77   Prob(JB):                         0.00\n",
      "Heteroskedasticity (H):               2.03   Skew:                            -0.08\n",
      "Prob(H) (two-sided):                  0.00   Kurtosis:                         9.05\n",
      "===================================================================================\n",
      "\n",
      "Warnings:\n",
      "[1] Covariance matrix calculated using the outer product of gradients (complex-step).\n",
      "LLR Test 0.0\n"
     ]
    }
   ],
   "source": [
    "ma2_ret_model=ARIMA(df['returns'][1:],order=(0,0,2))\n",
    "ma2_ret_res=ma2_ret_model.fit()\n",
    "print(ma2_ret_res.summary())\n",
    "print(\"LLR Test\",LLR_test(ma1_ret_model,ma2_ret_model))"
   ]
  },
  {
   "cell_type": "code",
   "execution_count": 19,
   "metadata": {},
   "outputs": [
    {
     "name": "stdout",
     "output_type": "stream",
     "text": [
      "                               SARIMAX Results                                \n",
      "==============================================================================\n",
      "Dep. Variable:                returns   No. Observations:                 5020\n",
      "Model:                 ARIMA(0, 0, 3)   Log Likelihood               -7904.317\n",
      "Date:                Fri, 15 Jul 2022   AIC                          15818.634\n",
      "Time:                        13:33:21   BIC                          15851.240\n",
      "Sample:                    01-10-1994   HQIC                         15830.060\n",
      "                         - 04-05-2013                                         \n",
      "Covariance Type:                  opg                                         \n",
      "==============================================================================\n",
      "                 coef    std err          z      P>|z|      [0.025      0.975]\n",
      "------------------------------------------------------------------------------\n",
      "const          0.0189      0.015      1.296      0.195      -0.010       0.048\n",
      "ma.L1         -0.0203      0.009     -2.334      0.020      -0.037      -0.003\n",
      "ma.L2         -0.0556      0.008     -7.032      0.000      -0.071      -0.040\n",
      "ma.L3         -0.0904      0.008    -11.594      0.000      -0.106      -0.075\n",
      "sigma2         1.3651      0.014     95.367      0.000       1.337       1.393\n",
      "===================================================================================\n",
      "Ljung-Box (L1) (Q):                   0.10   Jarque-Bera (JB):              6843.07\n",
      "Prob(Q):                              0.76   Prob(JB):                         0.00\n",
      "Heteroskedasticity (H):               2.03   Skew:                            -0.18\n",
      "Prob(H) (two-sided):                  0.00   Kurtosis:                         8.71\n",
      "===================================================================================\n",
      "\n",
      "Warnings:\n",
      "[1] Covariance matrix calculated using the outer product of gradients (complex-step).\n",
      "LLR Test 0.0\n"
     ]
    }
   ],
   "source": [
    "ma3_ret_model=ARIMA(df['returns'][1:],order=(0,0,3))\n",
    "ma3_ret_res=ma3_ret_model.fit()\n",
    "print(ma3_ret_res.summary())\n",
    "print(\"LLR Test\",LLR_test(ma2_ret_model,ma3_ret_model))"
   ]
  },
  {
   "cell_type": "code",
   "execution_count": 20,
   "metadata": {},
   "outputs": [
    {
     "name": "stdout",
     "output_type": "stream",
     "text": [
      "                               SARIMAX Results                                \n",
      "==============================================================================\n",
      "Dep. Variable:                returns   No. Observations:                 5020\n",
      "Model:                 ARIMA(0, 0, 4)   Log Likelihood               -7898.773\n",
      "Date:                Fri, 15 Jul 2022   AIC                          15809.547\n",
      "Time:                        14:36:26   BIC                          15848.674\n",
      "Sample:                    01-10-1994   HQIC                         15823.257\n",
      "                         - 04-05-2013                                         \n",
      "Covariance Type:                  opg                                         \n",
      "==============================================================================\n",
      "                 coef    std err          z      P>|z|      [0.025      0.975]\n",
      "------------------------------------------------------------------------------\n",
      "const          0.0189      0.015      1.236      0.217      -0.011       0.049\n",
      "ma.L1         -0.0203      0.009     -2.239      0.025      -0.038      -0.003\n",
      "ma.L2         -0.0551      0.008     -6.835      0.000      -0.071      -0.039\n",
      "ma.L3         -0.0922      0.008    -11.569      0.000      -0.108      -0.077\n",
      "ma.L4          0.0454      0.009      5.274      0.000       0.029       0.062\n",
      "sigma2         1.3621      0.015     92.053      0.000       1.333       1.391\n",
      "===================================================================================\n",
      "Ljung-Box (L1) (Q):                   0.02   Jarque-Bera (JB):              6477.07\n",
      "Prob(Q):                              0.88   Prob(JB):                         0.00\n",
      "Heteroskedasticity (H):               2.00   Skew:                            -0.14\n",
      "Prob(H) (two-sided):                  0.00   Kurtosis:                         8.56\n",
      "===================================================================================\n",
      "\n",
      "Warnings:\n",
      "[1] Covariance matrix calculated using the outer product of gradients (complex-step).\n",
      "LLR Test 0.001\n"
     ]
    }
   ],
   "source": [
    "ma4_ret_model=ARIMA(df['returns'][1:],order=(0,0,4))\n",
    "ma4_ret_res=ma4_ret_model.fit()\n",
    "print(ma4_ret_res.summary())\n",
    "print(\"LLR Test\",LLR_test(ma3_ret_model,ma4_ret_model))"
   ]
  },
  {
   "cell_type": "code",
   "execution_count": 21,
   "metadata": {},
   "outputs": [
    {
     "name": "stdout",
     "output_type": "stream",
     "text": [
      "                               SARIMAX Results                                \n",
      "==============================================================================\n",
      "Dep. Variable:                returns   No. Observations:                 5020\n",
      "Model:                 ARIMA(0, 0, 5)   Log Likelihood               -7892.823\n",
      "Date:                Fri, 15 Jul 2022   AIC                          15799.645\n",
      "Time:                        14:36:50   BIC                          15845.294\n",
      "Sample:                    01-10-1994   HQIC                         15815.641\n",
      "                         - 04-05-2013                                         \n",
      "Covariance Type:                  opg                                         \n",
      "==============================================================================\n",
      "                 coef    std err          z      P>|z|      [0.025      0.975]\n",
      "------------------------------------------------------------------------------\n",
      "const          0.0189      0.015      1.282      0.200      -0.010       0.048\n",
      "ma.L1         -0.0262      0.009     -2.839      0.005      -0.044      -0.008\n",
      "ma.L2         -0.0497      0.008     -6.147      0.000      -0.066      -0.034\n",
      "ma.L3         -0.0852      0.008    -10.525      0.000      -0.101      -0.069\n",
      "ma.L4          0.0458      0.009      5.312      0.000       0.029       0.063\n",
      "ma.L5         -0.0500      0.008     -6.250      0.000      -0.066      -0.034\n",
      "sigma2         1.3589      0.015     91.851      0.000       1.330       1.388\n",
      "===================================================================================\n",
      "Ljung-Box (L1) (Q):                   0.02   Jarque-Bera (JB):              6383.74\n",
      "Prob(Q):                              0.90   Prob(JB):                         0.00\n",
      "Heteroskedasticity (H):               2.00   Skew:                            -0.18\n",
      "Prob(H) (two-sided):                  0.00   Kurtosis:                         8.51\n",
      "===================================================================================\n",
      "\n",
      "Warnings:\n",
      "[1] Covariance matrix calculated using the outer product of gradients (complex-step).\n",
      "LLR Test 0.001\n"
     ]
    }
   ],
   "source": [
    "ma5_ret_model=ARIMA(df['returns'][1:],order=(0,0,5))\n",
    "ma5_ret_res=ma5_ret_model.fit()\n",
    "print(ma5_ret_res.summary())\n",
    "print(\"LLR Test\",LLR_test(ma4_ret_model,ma5_ret_model))"
   ]
  },
  {
   "cell_type": "code",
   "execution_count": 22,
   "metadata": {},
   "outputs": [
    {
     "name": "stdout",
     "output_type": "stream",
     "text": [
      "                               SARIMAX Results                                \n",
      "==============================================================================\n",
      "Dep. Variable:                returns   No. Observations:                 5020\n",
      "Model:                 ARIMA(0, 0, 6)   Log Likelihood               -7889.221\n",
      "Date:                Fri, 15 Jul 2022   AIC                          15794.442\n",
      "Time:                        14:37:36   BIC                          15846.612\n",
      "Sample:                    01-10-1994   HQIC                         15812.723\n",
      "                         - 04-05-2013                                         \n",
      "Covariance Type:                  opg                                         \n",
      "==============================================================================\n",
      "                 coef    std err          z      P>|z|      [0.025      0.975]\n",
      "------------------------------------------------------------------------------\n",
      "const          0.0189      0.014      1.318      0.188      -0.009       0.047\n",
      "ma.L1         -0.0237      0.009     -2.562      0.010      -0.042      -0.006\n",
      "ma.L2         -0.0486      0.008     -5.982      0.000      -0.064      -0.033\n",
      "ma.L3         -0.0827      0.008    -10.179      0.000      -0.099      -0.067\n",
      "ma.L4          0.0466      0.009      5.386      0.000       0.030       0.064\n",
      "ma.L5         -0.0484      0.008     -5.991      0.000      -0.064      -0.033\n",
      "ma.L6         -0.0387      0.009     -4.318      0.000      -0.056      -0.021\n",
      "sigma2         1.3569      0.015     92.179      0.000       1.328       1.386\n",
      "===================================================================================\n",
      "Ljung-Box (L1) (Q):                   0.00   Jarque-Bera (JB):              6533.78\n",
      "Prob(Q):                              0.98   Prob(JB):                         0.00\n",
      "Heteroskedasticity (H):               2.00   Skew:                            -0.20\n",
      "Prob(H) (two-sided):                  0.00   Kurtosis:                         8.58\n",
      "===================================================================================\n",
      "\n",
      "Warnings:\n",
      "[1] Covariance matrix calculated using the outer product of gradients (complex-step).\n",
      "LLR Test 0.007\n"
     ]
    }
   ],
   "source": [
    "ma6_ret_model=ARIMA(df['returns'][1:],order=(0,0,6))\n",
    "ma6_ret_res=ma6_ret_model.fit()\n",
    "print(ma6_ret_res.summary())\n",
    "print(\"LLR Test\",LLR_test(ma5_ret_model,ma6_ret_model))"
   ]
  },
  {
   "cell_type": "code",
   "execution_count": 23,
   "metadata": {
    "scrolled": true
   },
   "outputs": [
    {
     "name": "stdout",
     "output_type": "stream",
     "text": [
      "                               SARIMAX Results                                \n",
      "==============================================================================\n",
      "Dep. Variable:                returns   No. Observations:                 5020\n",
      "Model:                 ARIMA(0, 0, 7)   Log Likelihood               -7889.046\n",
      "Date:                Fri, 15 Jul 2022   AIC                          15796.091\n",
      "Time:                        14:38:05   BIC                          15854.782\n",
      "Sample:                    01-10-1994   HQIC                         15816.657\n",
      "                         - 04-05-2013                                         \n",
      "Covariance Type:                  opg                                         \n",
      "==============================================================================\n",
      "                 coef    std err          z      P>|z|      [0.025      0.975]\n",
      "------------------------------------------------------------------------------\n",
      "const          0.0189      0.015      1.303      0.193      -0.010       0.047\n",
      "ma.L1         -0.0247      0.009     -2.645      0.008      -0.043      -0.006\n",
      "ma.L2         -0.0488      0.008     -6.000      0.000      -0.065      -0.033\n",
      "ma.L3         -0.0821      0.008     -9.988      0.000      -0.098      -0.066\n",
      "ma.L4          0.0458      0.009      5.292      0.000       0.029       0.063\n",
      "ma.L5         -0.0486      0.008     -5.989      0.000      -0.064      -0.033\n",
      "ma.L6         -0.0390      0.009     -4.314      0.000      -0.057      -0.021\n",
      "ma.L7          0.0085      0.009      0.947      0.343      -0.009       0.026\n",
      "sigma2         1.3568      0.015     91.390      0.000       1.328       1.386\n",
      "===================================================================================\n",
      "Ljung-Box (L1) (Q):                   0.00   Jarque-Bera (JB):              6506.02\n",
      "Prob(Q):                              0.98   Prob(JB):                         0.00\n",
      "Heteroskedasticity (H):               2.00   Skew:                            -0.19\n",
      "Prob(H) (two-sided):                  0.00   Kurtosis:                         8.56\n",
      "===================================================================================\n",
      "\n",
      "Warnings:\n",
      "[1] Covariance matrix calculated using the outer product of gradients (complex-step).\n",
      "LLR Test 0.554\n"
     ]
    }
   ],
   "source": [
    "ma7_ret_model=ARIMA(df['returns'][1:],order=(0,0,7))\n",
    "ma7_ret_res=ma7_ret_model.fit()\n",
    "print(ma7_ret_res.summary())\n",
    "print(\"LLR Test\",LLR_test(ma6_ret_model,ma7_ret_model))"
   ]
  },
  {
   "cell_type": "code",
   "execution_count": null,
   "metadata": {},
   "outputs": [],
   "source": [
    "# Thus we can conclude that MA 6 model works well"
   ]
  },
  {
   "cell_type": "code",
   "execution_count": 25,
   "metadata": {},
   "outputs": [],
   "source": [
    "# In ACF method we see that 7th lag is not significant but the 8th lag was significant so we will test MA 8"
   ]
  },
  {
   "cell_type": "code",
   "execution_count": 26,
   "metadata": {},
   "outputs": [
    {
     "name": "stdout",
     "output_type": "stream",
     "text": [
      "                               SARIMAX Results                                \n",
      "==============================================================================\n",
      "Dep. Variable:                returns   No. Observations:                 5020\n",
      "Model:                 ARIMA(0, 0, 8)   Log Likelihood               -7885.603\n",
      "Date:                Fri, 15 Jul 2022   AIC                          15791.205\n",
      "Time:                        14:40:47   BIC                          15856.417\n",
      "Sample:                    01-10-1994   HQIC                         15814.056\n",
      "                         - 04-05-2013                                         \n",
      "Covariance Type:                  opg                                         \n",
      "==============================================================================\n",
      "                 coef    std err          z      P>|z|      [0.025      0.975]\n",
      "------------------------------------------------------------------------------\n",
      "const          0.0189      0.015      1.253      0.210      -0.011       0.048\n",
      "ma.L1         -0.0238      0.009     -2.527      0.011      -0.042      -0.005\n",
      "ma.L2         -0.0495      0.008     -6.053      0.000      -0.066      -0.033\n",
      "ma.L3         -0.0847      0.008    -10.308      0.000      -0.101      -0.069\n",
      "ma.L4          0.0488      0.009      5.615      0.000       0.032       0.066\n",
      "ma.L5         -0.0518      0.008     -6.304      0.000      -0.068      -0.036\n",
      "ma.L6         -0.0402      0.009     -4.411      0.000      -0.058      -0.022\n",
      "ma.L7          0.0083      0.009      0.938      0.348      -0.009       0.026\n",
      "ma.L8          0.0365      0.009      3.881      0.000       0.018       0.055\n",
      "sigma2         1.3550      0.015     91.305      0.000       1.326       1.384\n",
      "===================================================================================\n",
      "Ljung-Box (L1) (Q):                   0.00   Jarque-Bera (JB):              6440.47\n",
      "Prob(Q):                              0.99   Prob(JB):                         0.00\n",
      "Heteroskedasticity (H):               2.00   Skew:                            -0.18\n",
      "Prob(H) (two-sided):                  0.00   Kurtosis:                         8.54\n",
      "===================================================================================\n",
      "\n",
      "Warnings:\n",
      "[1] Covariance matrix calculated using the outer product of gradients (complex-step).\n",
      "LLR Test 0.009\n"
     ]
    }
   ],
   "source": [
    "ma8_ret_model=ARIMA(df['returns'][1:],order=(0,0,8))\n",
    "ma8_ret_res=ma8_ret_model.fit()\n",
    "print(ma8_ret_res.summary())\n",
    "print(\"LLR Test\",LLR_test(ma7_ret_model,ma8_ret_model))"
   ]
  },
  {
   "cell_type": "code",
   "execution_count": 28,
   "metadata": {},
   "outputs": [
    {
     "data": {
      "text/plain": [
       "0.027"
      ]
     },
     "execution_count": 28,
     "metadata": {},
     "output_type": "execute_result"
    }
   ],
   "source": [
    "LLR_test(ma6_ret_model,ma8_ret_model,DF=2)\n",
    "\n",
    "#Therefore ma 8 works better than ma6 even though ma 8 has a one non significant coefficient too."
   ]
  },
  {
   "cell_type": "markdown",
   "metadata": {},
   "source": [
    "## Residuals for Returns"
   ]
  },
  {
   "cell_type": "code",
   "execution_count": 31,
   "metadata": {},
   "outputs": [
    {
     "name": "stderr",
     "output_type": "stream",
     "text": [
      "/var/folders/ws/jfyqgcz57_374tjld1g6w96m0000gn/T/ipykernel_7666/2002994206.py:1: SettingWithCopyWarning: \n",
      "A value is trying to be set on a copy of a slice from a DataFrame.\n",
      "Try using .loc[row_indexer,col_indexer] = value instead\n",
      "\n",
      "See the caveats in the documentation: https://pandas.pydata.org/pandas-docs/stable/user_guide/indexing.html#returning-a-view-versus-a-copy\n",
      "  df['ma8_ret_resid']=ma8_ret_model.fit().resid\n"
     ]
    }
   ],
   "source": [
    "df['ma8_ret_resid']=ma8_ret_model.fit().resid"
   ]
  },
  {
   "cell_type": "code",
   "execution_count": 32,
   "metadata": {},
   "outputs": [
    {
     "name": "stdout",
     "output_type": "stream",
     "text": [
      "-5.160537591881917e-05\n",
      "1.3552546724934174\n"
     ]
    }
   ],
   "source": [
    "print(df['ma8_ret_resid'].mean())\n",
    "print(df['ma8_ret_resid'].var())"
   ]
  },
  {
   "cell_type": "code",
   "execution_count": null,
   "metadata": {
    "scrolled": true
   },
   "outputs": [],
   "source": [
    "# So we observe that the mean is close to zero and var is around 1.355"
   ]
  },
  {
   "cell_type": "code",
   "execution_count": 33,
   "metadata": {
    "scrolled": false
   },
   "outputs": [
    {
     "name": "stdout",
     "output_type": "stream",
     "text": [
      "1.1641540587454124\n"
     ]
    }
   ],
   "source": [
    "print(sqrt(df['ma8_ret_resid'].var()))"
   ]
  },
  {
   "cell_type": "code",
   "execution_count": null,
   "metadata": {},
   "outputs": [],
   "source": [
    "# Gaussian white noise implies normality and thus we can use 68-95-99.5 rule\n",
    "# this can be used to analyse the spread of residuals. \n",
    "# 3*1.16= 99.5% values lie within [-3.48,3.48] range.\n",
    "# This means in worst case senario, we can be 7% point off when predicting result of market value\n",
    "# and this percentage is too much when predicting profit and loss."
   ]
  },
  {
   "cell_type": "code",
   "execution_count": 37,
   "metadata": {},
   "outputs": [
    {
     "data": {
      "text/plain": [
       "<AxesSubplot:xlabel='date'>"
      ]
     },
     "execution_count": 37,
     "metadata": {},
     "output_type": "execute_result"
    },
    {
     "data": {
      "image/png": "[encoded data removed]",
      "text/plain": [
       "<Figure size 1440x360 with 1 Axes>"
      ]
     },
     "metadata": {},
     "output_type": "display_data"
    }
   ],
   "source": [
    "df['ma8_ret_resid'].plot(figsize=[20,5])"
   ]
  },
  {
   "cell_type": "code",
   "execution_count": 38,
   "metadata": {},
   "outputs": [],
   "source": [
    "# If we exclude dot com and housing price issue in 1990s and 2008 and the crisis following them then the residuals\n",
    "# are rather random and they are confined within a reasonable range. We can check for stationarity to check for \n",
    "# white noise. thus we run adjusted DF test to check for stationarity."
   ]
  },
  {
   "cell_type": "code",
   "execution_count": 41,
   "metadata": {},
   "outputs": [
    {
     "data": {
      "text/plain": [
       "(-70.83777222244727,\n",
       " 0.0,\n",
       " 0,\n",
       " 5019,\n",
       " {'1%': -3.4316535759402753,\n",
       "  '5%': -2.8621160400844468,\n",
       "  '10%': -2.567076626752987},\n",
       " 15689.881935682468)"
      ]
     },
     "execution_count": 41,
     "metadata": {},
     "output_type": "execute_result"
    }
   ],
   "source": [
    "import statsmodels.tsa.stattools as sts\n",
    "sts.adfuller(df['ma8_ret_resid'][1:])"
   ]
  },
  {
   "cell_type": "code",
   "execution_count": 42,
   "metadata": {},
   "outputs": [
    {
     "data": {
      "image/png": "[encoded data removed]",
      "text/plain": [
       "<Figure size 432x288 with 1 Axes>"
      ]
     },
     "metadata": {},
     "output_type": "display_data"
    }
   ],
   "source": [
    "# We will also do the ACF of the data\n",
    "import statsmodels.graphics.tsaplots as sgt\n",
    "sgt.plot_acf(df['ma8_ret_resid'][1:],lags=40,zero=False)\n",
    "plt.ylim(-0.06,0.06)\n",
    "plt.show()"
   ]
  },
  {
   "cell_type": "code",
   "execution_count": null,
   "metadata": {},
   "outputs": [],
   "source": [
    "# So we see the first 17 lags are significantly zero and does not have any importance. \n",
    "# The 18th lag has some significance but that value is too old to create impact and market adjusts to shocks and\n",
    "# thus is not relevant in present data."
   ]
  },
  {
   "cell_type": "markdown",
   "metadata": {},
   "source": [
    "## Normalized Returns"
   ]
  },
  {
   "cell_type": "code",
   "execution_count": 43,
   "metadata": {},
   "outputs": [],
   "source": [
    "# Using normalized data is crucial in comparing different time series"
   ]
  },
  {
   "cell_type": "code",
   "execution_count": 45,
   "metadata": {},
   "outputs": [
    {
     "name": "stderr",
     "output_type": "stream",
     "text": [
      "/var/folders/ws/jfyqgcz57_374tjld1g6w96m0000gn/T/ipykernel_7666/2824630290.py:2: SettingWithCopyWarning: \n",
      "A value is trying to be set on a copy of a slice from a DataFrame.\n",
      "Try using .loc[row_indexer,col_indexer] = value instead\n",
      "\n",
      "See the caveats in the documentation: https://pandas.pydata.org/pandas-docs/stable/user_guide/indexing.html#returning-a-view-versus-a-copy\n",
      "  df['norm_returns']=df['returns'].div(benchmark).mul(100)\n"
     ]
    }
   ],
   "source": [
    "benchmark=df['returns'].iloc[1]\n",
    "df['norm_returns']=df['returns'].div(benchmark).mul(100)"
   ]
  },
  {
   "cell_type": "code",
   "execution_count": 46,
   "metadata": {},
   "outputs": [
    {
     "data": {
      "image/png": "[encoded data removed]",
      "text/plain": [
       "<Figure size 432x288 with 1 Axes>"
      ]
     },
     "metadata": {},
     "output_type": "display_data"
    }
   ],
   "source": [
    "import statsmodels.graphics.tsaplots as sgt\n",
    "sgt.plot_acf(df['norm_returns'][1:],lags=40,zero=False)\n",
    "plt.ylim(-0.06,0.06)\n",
    "plt.show()"
   ]
  },
  {
   "cell_type": "code",
   "execution_count": 47,
   "metadata": {},
   "outputs": [],
   "source": [
    "# It is giving similar results with not normalized data. but still we will try to fit ma6 and ma8 "
   ]
  },
  {
   "cell_type": "code",
   "execution_count": 49,
   "metadata": {},
   "outputs": [
    {
     "name": "stdout",
     "output_type": "stream",
     "text": [
      "                               SARIMAX Results                                \n",
      "==============================================================================\n",
      "Dep. Variable:                returns   No. Observations:                 5020\n",
      "Model:                 ARIMA(0, 0, 6)   Log Likelihood               -7889.221\n",
      "Date:                Fri, 15 Jul 2022   AIC                          15794.442\n",
      "Time:                        15:29:40   BIC                          15846.612\n",
      "Sample:                    01-10-1994   HQIC                         15812.723\n",
      "                         - 04-05-2013                                         \n",
      "Covariance Type:                  opg                                         \n",
      "==============================================================================\n",
      "                 coef    std err          z      P>|z|      [0.025      0.975]\n",
      "------------------------------------------------------------------------------\n",
      "const          0.0189      0.014      1.318      0.188      -0.009       0.047\n",
      "ma.L1         -0.0237      0.009     -2.562      0.010      -0.042      -0.006\n",
      "ma.L2         -0.0486      0.008     -5.982      0.000      -0.064      -0.033\n",
      "ma.L3         -0.0827      0.008    -10.179      0.000      -0.099      -0.067\n",
      "ma.L4          0.0466      0.009      5.386      0.000       0.030       0.064\n",
      "ma.L5         -0.0484      0.008     -5.991      0.000      -0.064      -0.033\n",
      "ma.L6         -0.0387      0.009     -4.318      0.000      -0.056      -0.021\n",
      "sigma2         1.3569      0.015     92.179      0.000       1.328       1.386\n",
      "===================================================================================\n",
      "Ljung-Box (L1) (Q):                   0.00   Jarque-Bera (JB):              6533.78\n",
      "Prob(Q):                              0.98   Prob(JB):                         0.00\n",
      "Heteroskedasticity (H):               2.00   Skew:                            -0.20\n",
      "Prob(H) (two-sided):                  0.00   Kurtosis:                         8.58\n",
      "===================================================================================\n",
      "\n",
      "Warnings:\n",
      "[1] Covariance matrix calculated using the outer product of gradients (complex-step).\n"
     ]
    }
   ],
   "source": [
    "norm_ma6_ret_model=ARIMA(df['returns'][1:],order=(0,0,6))\n",
    "norm_ma6_ret_res=norm_ma6_ret_model.fit()\n",
    "print(norm_ma6_ret_res.summary())"
   ]
  },
  {
   "cell_type": "code",
   "execution_count": 53,
   "metadata": {},
   "outputs": [
    {
     "name": "stdout",
     "output_type": "stream",
     "text": [
      "                               SARIMAX Results                                \n",
      "==============================================================================\n",
      "Dep. Variable:                returns   No. Observations:                 5020\n",
      "Model:                 ARIMA(0, 0, 7)   Log Likelihood               -7889.046\n",
      "Date:                Fri, 15 Jul 2022   AIC                          15796.091\n",
      "Time:                        15:31:09   BIC                          15854.782\n",
      "Sample:                    01-10-1994   HQIC                         15816.657\n",
      "                         - 04-05-2013                                         \n",
      "Covariance Type:                  opg                                         \n",
      "==============================================================================\n",
      "                 coef    std err          z      P>|z|      [0.025      0.975]\n",
      "------------------------------------------------------------------------------\n",
      "const          0.0189      0.015      1.303      0.193      -0.010       0.047\n",
      "ma.L1         -0.0247      0.009     -2.645      0.008      -0.043      -0.006\n",
      "ma.L2         -0.0488      0.008     -6.000      0.000      -0.065      -0.033\n",
      "ma.L3         -0.0821      0.008     -9.988      0.000      -0.098      -0.066\n",
      "ma.L4          0.0458      0.009      5.292      0.000       0.029       0.063\n",
      "ma.L5         -0.0486      0.008     -5.989      0.000      -0.064      -0.033\n",
      "ma.L6         -0.0390      0.009     -4.314      0.000      -0.057      -0.021\n",
      "ma.L7          0.0085      0.009      0.947      0.343      -0.009       0.026\n",
      "sigma2         1.3568      0.015     91.390      0.000       1.328       1.386\n",
      "===================================================================================\n",
      "Ljung-Box (L1) (Q):                   0.00   Jarque-Bera (JB):              6506.02\n",
      "Prob(Q):                              0.98   Prob(JB):                         0.00\n",
      "Heteroskedasticity (H):               2.00   Skew:                            -0.19\n",
      "Prob(H) (two-sided):                  0.00   Kurtosis:                         8.56\n",
      "===================================================================================\n",
      "\n",
      "Warnings:\n",
      "[1] Covariance matrix calculated using the outer product of gradients (complex-step).\n",
      "LLR Test 0.554\n"
     ]
    }
   ],
   "source": [
    "norm_ma7_ret_model=ARIMA(df['returns'][1:],order=(0,0,7))\n",
    "norm_ma7_ret_res=norm_ma7_ret_model.fit()\n",
    "print(norm_ma7_ret_res.summary())\n",
    "print(\"LLR Test\",LLR_test(norm_ma6_ret_model,norm_ma7_ret_model))"
   ]
  },
  {
   "cell_type": "code",
   "execution_count": 52,
   "metadata": {},
   "outputs": [
    {
     "name": "stdout",
     "output_type": "stream",
     "text": [
      "                               SARIMAX Results                                \n",
      "==============================================================================\n",
      "Dep. Variable:                returns   No. Observations:                 5020\n",
      "Model:                 ARIMA(0, 0, 8)   Log Likelihood               -7885.603\n",
      "Date:                Fri, 15 Jul 2022   AIC                          15791.205\n",
      "Time:                        15:30:50   BIC                          15856.417\n",
      "Sample:                    01-10-1994   HQIC                         15814.056\n",
      "                         - 04-05-2013                                         \n",
      "Covariance Type:                  opg                                         \n",
      "==============================================================================\n",
      "                 coef    std err          z      P>|z|      [0.025      0.975]\n",
      "------------------------------------------------------------------------------\n",
      "const          0.0189      0.015      1.253      0.210      -0.011       0.048\n",
      "ma.L1         -0.0238      0.009     -2.527      0.011      -0.042      -0.005\n",
      "ma.L2         -0.0495      0.008     -6.053      0.000      -0.066      -0.033\n",
      "ma.L3         -0.0847      0.008    -10.308      0.000      -0.101      -0.069\n",
      "ma.L4          0.0488      0.009      5.615      0.000       0.032       0.066\n",
      "ma.L5         -0.0518      0.008     -6.304      0.000      -0.068      -0.036\n",
      "ma.L6         -0.0402      0.009     -4.411      0.000      -0.058      -0.022\n",
      "ma.L7          0.0083      0.009      0.938      0.348      -0.009       0.026\n",
      "ma.L8          0.0365      0.009      3.881      0.000       0.018       0.055\n",
      "sigma2         1.3550      0.015     91.305      0.000       1.326       1.384\n",
      "===================================================================================\n",
      "Ljung-Box (L1) (Q):                   0.00   Jarque-Bera (JB):              6440.47\n",
      "Prob(Q):                              0.99   Prob(JB):                         0.00\n",
      "Heteroskedasticity (H):               2.00   Skew:                            -0.18\n",
      "Prob(H) (two-sided):                  0.00   Kurtosis:                         8.54\n",
      "===================================================================================\n",
      "\n",
      "Warnings:\n",
      "[1] Covariance matrix calculated using the outer product of gradients (complex-step).\n",
      "LLR Test 0.009\n"
     ]
    }
   ],
   "source": [
    "norm_ma8_ret_model=ARIMA(df['returns'][1:],order=(0,0,8))\n",
    "norm_ma8_ret_res=norm_ma8_ret_model.fit()\n",
    "print(norm_ma8_ret_res.summary())\n",
    "print(\"LLR Test\",LLR_test(norm_ma7_ret_model,norm_ma8_ret_model))"
   ]
  },
  {
   "cell_type": "code",
   "execution_count": null,
   "metadata": {},
   "outputs": [],
   "source": [
    "# This concludes that the normalized returns have similar result to not normalized data when it comes to MA model\n",
    "\n",
    "# https://stats.stackexchange.com/questions/19715/why-does-a-time-series-have-to-be-stationary"
   ]
  },
  {
   "cell_type": "markdown",
   "metadata": {},
   "source": [
    "## MA Models For Prices"
   ]
  },
  {
   "cell_type": "code",
   "execution_count": 54,
   "metadata": {
    "scrolled": true
   },
   "outputs": [
    {
     "data": {
      "image/png": "[encoded data removed]",
      "text/plain": [
       "<Figure size 432x288 with 1 Axes>"
      ]
     },
     "execution_count": 54,
     "metadata": {},
     "output_type": "execute_result"
    },
    {
     "data": {
      "image/png": "[encoded data removed]",
      "text/plain": [
       "<Figure size 432x288 with 1 Axes>"
      ]
     },
     "metadata": {},
     "output_type": "display_data"
    }
   ],
   "source": [
    "sgt.plot_acf(df['market_value'])"
   ]
  },
  {
   "cell_type": "code",
   "execution_count": 55,
   "metadata": {},
   "outputs": [],
   "source": [
    "# This shows that the all the 40 lags are significant this suggests any higher lag model will be better than\n",
    "# lower lag and we might have to use ma infinity model. But since no such thing exists we can try to use MA models\n",
    "# to see the impact"
   ]
  },
  {
   "cell_type": "code",
   "execution_count": 56,
   "metadata": {},
   "outputs": [
    {
     "name": "stdout",
     "output_type": "stream",
     "text": [
      "                               SARIMAX Results                                \n",
      "==============================================================================\n",
      "Dep. Variable:           market_value   No. Observations:                 5021\n",
      "Model:                 ARIMA(0, 0, 1)   Log Likelihood              -38629.000\n",
      "Date:                Fri, 15 Jul 2022   AIC                          77264.000\n",
      "Time:                        23:28:46   BIC                          77283.564\n",
      "Sample:                    01-07-1994   HQIC                         77270.856\n",
      "                         - 04-05-2013                                         \n",
      "Covariance Type:                  opg                                         \n",
      "==============================================================================\n",
      "                 coef    std err          z      P>|z|      [0.025      0.975]\n",
      "------------------------------------------------------------------------------\n",
      "const       5089.6317     15.834    321.441      0.000    5058.598    5120.665\n",
      "ma.L1          0.9573      0.004    231.410      0.000       0.949       0.965\n",
      "sigma2      2.817e+05   8160.538     34.519      0.000    2.66e+05    2.98e+05\n",
      "===================================================================================\n",
      "Ljung-Box (L1) (Q):                4221.10   Jarque-Bera (JB):               291.39\n",
      "Prob(Q):                              0.00   Prob(JB):                         0.00\n",
      "Heteroskedasticity (H):               0.44   Skew:                            -0.39\n",
      "Prob(H) (two-sided):                  0.00   Kurtosis:                         2.12\n",
      "===================================================================================\n",
      "\n",
      "Warnings:\n",
      "[1] Covariance matrix calculated using the outer product of gradients (complex-step).\n"
     ]
    }
   ],
   "source": [
    "ma1_price_model=ARIMA(df['market_value'],order=(0,0,1))\n",
    "ma1_price_res=ma1_price_model.fit()\n",
    "print(ma1_price_res.summary())"
   ]
  },
  {
   "cell_type": "code",
   "execution_count": null,
   "metadata": {},
   "outputs": [],
   "source": [
    "# NOTE : MA model does not perform well when it comes to non-stationary data\n",
    "# MA(1) model with coefficient close to 1 is approximately equal to AR(n) model with error term from n periods back"
   ]
  }
 ],
 "metadata": {
  "kernelspec": {
   "display_name": "Python 3 (ipykernel)",
   "language": "python",
   "name": "python3"
  },
  "language_info": {
   "codemirror_mode": {
    "name": "ipython",
    "version": 3
   },
   "file_extension": ".py",
   "mimetype": "text/x-python",
   "name": "python",
   "nbconvert_exporter": "python",
   "pygments_lexer": "ipython3",
   "version": "3.8.8"
  }
 },
 "nbformat": 4,
 "nbformat_minor": 2
}
